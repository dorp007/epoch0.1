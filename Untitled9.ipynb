{
  "nbformat": 4,
  "nbformat_minor": 0,
  "metadata": {
    "colab": {
      "private_outputs": true,
      "provenance": [],
      "authorship_tag": "ABX9TyNF7xHpKa76MCZiNteRsG73"
    },
    "kernelspec": {
      "name": "python3",
      "display_name": "Python 3"
    },
    "language_info": {
      "name": "python"
    }
  },
  "cells": [
    {
      "cell_type": "code",
      "source": [
        "!# bin/usr/env python\n",
        "\n",
        "from datetime import time\n",
        "start_date = time ()\n",
        "end_date = time.fromisoformat\n",
        "timedelta = end_date\n",
        "remaining_months = 12\n",
        "remaining_hours = remaining_days / 24\n",
        "remaining_seconds = remaining_minutes / 60\n",
        "print(f\"Remaining till NYE: {remaining_months} months {remaining_days} days {remaining_hours} hours {remaining_minutes} minutes {remaining_seconds} seconds!\")"
      ],
      "metadata": {
        "id": "vmNkXMjh7iG8"
      },
      "execution_count": null,
      "outputs": []
    },
    {
      "cell_type": "code",
      "source": [
        "!# bin/usr/env python\n",
        "\n",
        "from datetime import datetime\n",
        "start_date = datetime.fromtimestamp(1347517370)\n",
        "end_date = datetime(start_date.year, 12, 31, 23, 59, 59)\n",
        "time_difference = end_date - start_date\n",
        "remaining_days = time_difference.days\n",
        "remaining_months = remaining_days // 30\n",
        "remaining_minutes, remaining_seconds = divmod(time_difference.seconds, 60)\n",
        "print(f\"Remaining: {remaining_months} months {remaining_days} days {remaining_minutes} minutes {remaining_seconds} seconds\")\n"
      ],
      "metadata": {
        "id": "QNyI0Kpb3z7N"
      },
      "execution_count": null,
      "outputs": []
    },
    {
      "cell_type": "code",
      "source": [
        "!#bin/env python\n",
        "\n",
        "from datetime import datetime\n",
        "start_date = datetime.fromtimestamp(1347517370)\n",
        "end_date = datetime(start_date.year, 12, 31, 23, 59, 59)\n",
        "time_difference = end_date - start_date\n",
        "remaining_days = time_difference.days\n",
        "remaining_months = remaining_days // 30\n",
        "remaining_minutes, remaining_seconds = divmod(time_difference.seconds, 60)\n",
        "print(f\"Remaining: {remaining_days},{remaining_months},  \")\n",
        "print(f\"Remaining months: {remaining_months} months\")\n",
        "print(f\"Remaining minutes: {remaining_minutes} minutes\")\n",
        "print(f\"Remaining seconds: {remaining_seconds} seconds\")"
      ],
      "metadata": {
        "id": "xTP8vvPi2YXM"
      },
      "execution_count": null,
      "outputs": []
    }
  ]
}