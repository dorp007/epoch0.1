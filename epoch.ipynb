{
  "nbformat": 4,
  "nbformat_minor": 0,
  "metadata": {
    "colab": {
      "private_outputs": true,
      "provenance": [],
      "authorship_tag": "ABX9TyPu7saUOwfhbEuSrdrKQ4K1",
      "include_colab_link": true
    },
    "kernelspec": {
      "name": "python3",
      "display_name": "Python 3"
    },
    "language_info": {
      "name": "python"
    }
  },
  "cells": [
    {
      "cell_type": "markdown",
      "metadata": {
        "id": "view-in-github",
        "colab_type": "text"
      },
      "source": [
        "<a href=\"https://colab.research.google.com/github/dorp007/epoch0.1/blob/master/epoch.ipynb\" target=\"_parent\"><img src=\"https://colab.research.google.com/assets/colab-badge.svg\" alt=\"Open In Colab\"/></a>"
      ]
    },
    {
      "cell_type": "code",
      "source": [
        "!# bin/usr/env python\n",
        "\n",
        "from datetime import datetime\n",
        "start_date = datetime.fromtimestamp(1347517370)\n",
        "end_date = datetime(start_date.year, 12, 31, 23, 59, 59)\n",
        "time_difference = end_date - start_date\n",
        "remaining_days = time_difference.days\n",
        "remaining_months = remaining_days // 30\n",
        "remaining_minutes, remaining_seconds = divmod(time_difference.seconds, 60)\n",
        "print(f\"Remaining: {remaining_months} months {remaining_days} days {remaining_minutes} minutes {remaining_seconds} seconds\")\n"
      ],
      "metadata": {
        "id": "QNyI0Kpb3z7N"
      },
      "execution_count": null,
      "outputs": []
    }
  ]
}